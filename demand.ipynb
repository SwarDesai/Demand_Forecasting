{
 "cells": [
  {
   "cell_type": "code",
   "execution_count": 1,
   "id": "5b19ba14",
   "metadata": {},
   "outputs": [],
   "source": [
    "import numpy as np \n",
    "import pandas as pd\n",
    "import matplotlib.pyplot as plt\n",
    "import seaborn as sns "
   ]
  },
  {
   "cell_type": "code",
   "execution_count": 23,
   "id": "1b9e79b3",
   "metadata": {},
   "outputs": [],
   "source": [
    "df = pd.read_csv(\"data/train.csv\", parse_dates=['date'])"
   ]
  },
  {
   "cell_type": "code",
   "execution_count": 25,
   "id": "ba1b3887",
   "metadata": {},
   "outputs": [
    {
     "data": {
      "application/vnd.microsoft.datawrangler.viewer.v0+json": {
       "columns": [
        {
         "name": "index",
         "rawType": "int64",
         "type": "integer"
        },
        {
         "name": "date",
         "rawType": "datetime64[ns]",
         "type": "datetime"
        },
        {
         "name": "store",
         "rawType": "int64",
         "type": "integer"
        },
        {
         "name": "item",
         "rawType": "int64",
         "type": "integer"
        },
        {
         "name": "sales",
         "rawType": "int64",
         "type": "integer"
        }
       ],
       "ref": "f9f8defb-1a71-4982-ae60-8e3031559b07",
       "rows": [
        [
         "14645",
         "2013-02-07 00:00:00",
         "9",
         "1",
         "13"
        ],
        [
         "246688",
         "2013-06-28 00:00:00",
         "6",
         "14",
         "51"
        ],
        [
         "111973",
         "2014-08-11 00:00:00",
         "2",
         "7",
         "58"
        ],
        [
         "550467",
         "2015-04-22 00:00:00",
         "2",
         "31",
         "90"
        ],
        [
         "118075",
         "2016-04-26 00:00:00",
         "5",
         "7",
         "56"
        ]
       ],
       "shape": {
        "columns": 4,
        "rows": 5
       }
      },
      "text/html": [
       "<div>\n",
       "<style scoped>\n",
       "    .dataframe tbody tr th:only-of-type {\n",
       "        vertical-align: middle;\n",
       "    }\n",
       "\n",
       "    .dataframe tbody tr th {\n",
       "        vertical-align: top;\n",
       "    }\n",
       "\n",
       "    .dataframe thead th {\n",
       "        text-align: right;\n",
       "    }\n",
       "</style>\n",
       "<table border=\"1\" class=\"dataframe\">\n",
       "  <thead>\n",
       "    <tr style=\"text-align: right;\">\n",
       "      <th></th>\n",
       "      <th>date</th>\n",
       "      <th>store</th>\n",
       "      <th>item</th>\n",
       "      <th>sales</th>\n",
       "    </tr>\n",
       "  </thead>\n",
       "  <tbody>\n",
       "    <tr>\n",
       "      <th>14645</th>\n",
       "      <td>2013-02-07</td>\n",
       "      <td>9</td>\n",
       "      <td>1</td>\n",
       "      <td>13</td>\n",
       "    </tr>\n",
       "    <tr>\n",
       "      <th>246688</th>\n",
       "      <td>2013-06-28</td>\n",
       "      <td>6</td>\n",
       "      <td>14</td>\n",
       "      <td>51</td>\n",
       "    </tr>\n",
       "    <tr>\n",
       "      <th>111973</th>\n",
       "      <td>2014-08-11</td>\n",
       "      <td>2</td>\n",
       "      <td>7</td>\n",
       "      <td>58</td>\n",
       "    </tr>\n",
       "    <tr>\n",
       "      <th>550467</th>\n",
       "      <td>2015-04-22</td>\n",
       "      <td>2</td>\n",
       "      <td>31</td>\n",
       "      <td>90</td>\n",
       "    </tr>\n",
       "    <tr>\n",
       "      <th>118075</th>\n",
       "      <td>2016-04-26</td>\n",
       "      <td>5</td>\n",
       "      <td>7</td>\n",
       "      <td>56</td>\n",
       "    </tr>\n",
       "  </tbody>\n",
       "</table>\n",
       "</div>"
      ],
      "text/plain": [
       "             date  store  item  sales\n",
       "14645  2013-02-07      9     1     13\n",
       "246688 2013-06-28      6    14     51\n",
       "111973 2014-08-11      2     7     58\n",
       "550467 2015-04-22      2    31     90\n",
       "118075 2016-04-26      5     7     56"
      ]
     },
     "execution_count": 25,
     "metadata": {},
     "output_type": "execute_result"
    }
   ],
   "source": [
    "df.sample(5)"
   ]
  },
  {
   "cell_type": "code",
   "execution_count": 26,
   "id": "38e8c28d",
   "metadata": {},
   "outputs": [
    {
     "data": {
      "text/plain": [
       "(913000, 4)"
      ]
     },
     "execution_count": 26,
     "metadata": {},
     "output_type": "execute_result"
    }
   ],
   "source": [
    "df.shape"
   ]
  },
  {
   "cell_type": "code",
   "execution_count": 27,
   "id": "e82bebdf",
   "metadata": {},
   "outputs": [
    {
     "name": "stdout",
     "output_type": "stream",
     "text": [
      "<class 'pandas.core.frame.DataFrame'>\n",
      "RangeIndex: 913000 entries, 0 to 912999\n",
      "Data columns (total 4 columns):\n",
      " #   Column  Non-Null Count   Dtype         \n",
      "---  ------  --------------   -----         \n",
      " 0   date    913000 non-null  datetime64[ns]\n",
      " 1   store   913000 non-null  int64         \n",
      " 2   item    913000 non-null  int64         \n",
      " 3   sales   913000 non-null  int64         \n",
      "dtypes: datetime64[ns](1), int64(3)\n",
      "memory usage: 27.9 MB\n"
     ]
    }
   ],
   "source": [
    "df.info()"
   ]
  },
  {
   "cell_type": "code",
   "execution_count": 28,
   "id": "1d5e2076",
   "metadata": {},
   "outputs": [
    {
     "data": {
      "application/vnd.microsoft.datawrangler.viewer.v0+json": {
       "columns": [
        {
         "name": "index",
         "rawType": "object",
         "type": "string"
        },
        {
         "name": "date",
         "rawType": "object",
         "type": "unknown"
        },
        {
         "name": "store",
         "rawType": "float64",
         "type": "float"
        },
        {
         "name": "item",
         "rawType": "float64",
         "type": "float"
        },
        {
         "name": "sales",
         "rawType": "float64",
         "type": "float"
        }
       ],
       "ref": "453158fb-e397-4e3f-b9f9-7af6cade4104",
       "rows": [
        [
         "count",
         "913000",
         "913000.0",
         "913000.0",
         "913000.0"
        ],
        [
         "mean",
         "2015-07-02 11:59:59.999999744",
         "5.5",
         "25.5",
         "52.250286966046005"
        ],
        [
         "min",
         "2013-01-01 00:00:00",
         "1.0",
         "1.0",
         "0.0"
        ],
        [
         "10%",
         "2013-07-02 00:00:00",
         "1.9000000000087311",
         "5.900000000008731",
         "20.0"
        ],
        [
         "30%",
         "2014-07-02 00:00:00",
         "3.7000000000116415",
         "15.700000000011642",
         "33.0"
        ],
        [
         "50%",
         "2015-07-02 12:00:00",
         "5.5",
         "25.5",
         "47.0"
        ],
        [
         "70%",
         "2016-07-02 00:00:00",
         "7.299999999930151",
         "35.29999999993015",
         "64.0"
        ],
        [
         "90%",
         "2017-07-02 00:00:00",
         "9.099999999976717",
         "45.09999999997672",
         "93.0"
        ],
        [
         "max",
         "2017-12-31 00:00:00",
         "10.0",
         "50.0",
         "231.0"
        ],
        [
         "std",
         null,
         "2.8722828962611735",
         "14.430877592663753",
         "28.80114360351709"
        ]
       ],
       "shape": {
        "columns": 4,
        "rows": 10
       }
      },
      "text/html": [
       "<div>\n",
       "<style scoped>\n",
       "    .dataframe tbody tr th:only-of-type {\n",
       "        vertical-align: middle;\n",
       "    }\n",
       "\n",
       "    .dataframe tbody tr th {\n",
       "        vertical-align: top;\n",
       "    }\n",
       "\n",
       "    .dataframe thead th {\n",
       "        text-align: right;\n",
       "    }\n",
       "</style>\n",
       "<table border=\"1\" class=\"dataframe\">\n",
       "  <thead>\n",
       "    <tr style=\"text-align: right;\">\n",
       "      <th></th>\n",
       "      <th>date</th>\n",
       "      <th>store</th>\n",
       "      <th>item</th>\n",
       "      <th>sales</th>\n",
       "    </tr>\n",
       "  </thead>\n",
       "  <tbody>\n",
       "    <tr>\n",
       "      <th>count</th>\n",
       "      <td>913000</td>\n",
       "      <td>913000.000000</td>\n",
       "      <td>913000.000000</td>\n",
       "      <td>913000.000000</td>\n",
       "    </tr>\n",
       "    <tr>\n",
       "      <th>mean</th>\n",
       "      <td>2015-07-02 11:59:59.999999744</td>\n",
       "      <td>5.500000</td>\n",
       "      <td>25.500000</td>\n",
       "      <td>52.250287</td>\n",
       "    </tr>\n",
       "    <tr>\n",
       "      <th>min</th>\n",
       "      <td>2013-01-01 00:00:00</td>\n",
       "      <td>1.000000</td>\n",
       "      <td>1.000000</td>\n",
       "      <td>0.000000</td>\n",
       "    </tr>\n",
       "    <tr>\n",
       "      <th>10%</th>\n",
       "      <td>2013-07-02 00:00:00</td>\n",
       "      <td>1.900000</td>\n",
       "      <td>5.900000</td>\n",
       "      <td>20.000000</td>\n",
       "    </tr>\n",
       "    <tr>\n",
       "      <th>30%</th>\n",
       "      <td>2014-07-02 00:00:00</td>\n",
       "      <td>3.700000</td>\n",
       "      <td>15.700000</td>\n",
       "      <td>33.000000</td>\n",
       "    </tr>\n",
       "    <tr>\n",
       "      <th>50%</th>\n",
       "      <td>2015-07-02 12:00:00</td>\n",
       "      <td>5.500000</td>\n",
       "      <td>25.500000</td>\n",
       "      <td>47.000000</td>\n",
       "    </tr>\n",
       "    <tr>\n",
       "      <th>70%</th>\n",
       "      <td>2016-07-02 00:00:00</td>\n",
       "      <td>7.300000</td>\n",
       "      <td>35.300000</td>\n",
       "      <td>64.000000</td>\n",
       "    </tr>\n",
       "    <tr>\n",
       "      <th>90%</th>\n",
       "      <td>2017-07-02 00:00:00</td>\n",
       "      <td>9.100000</td>\n",
       "      <td>45.100000</td>\n",
       "      <td>93.000000</td>\n",
       "    </tr>\n",
       "    <tr>\n",
       "      <th>max</th>\n",
       "      <td>2017-12-31 00:00:00</td>\n",
       "      <td>10.000000</td>\n",
       "      <td>50.000000</td>\n",
       "      <td>231.000000</td>\n",
       "    </tr>\n",
       "    <tr>\n",
       "      <th>std</th>\n",
       "      <td>NaN</td>\n",
       "      <td>2.872283</td>\n",
       "      <td>14.430878</td>\n",
       "      <td>28.801144</td>\n",
       "    </tr>\n",
       "  </tbody>\n",
       "</table>\n",
       "</div>"
      ],
      "text/plain": [
       "                                date          store           item  \\\n",
       "count                         913000  913000.000000  913000.000000   \n",
       "mean   2015-07-02 11:59:59.999999744       5.500000      25.500000   \n",
       "min              2013-01-01 00:00:00       1.000000       1.000000   \n",
       "10%              2013-07-02 00:00:00       1.900000       5.900000   \n",
       "30%              2014-07-02 00:00:00       3.700000      15.700000   \n",
       "50%              2015-07-02 12:00:00       5.500000      25.500000   \n",
       "70%              2016-07-02 00:00:00       7.300000      35.300000   \n",
       "90%              2017-07-02 00:00:00       9.100000      45.100000   \n",
       "max              2017-12-31 00:00:00      10.000000      50.000000   \n",
       "std                              NaN       2.872283      14.430878   \n",
       "\n",
       "               sales  \n",
       "count  913000.000000  \n",
       "mean       52.250287  \n",
       "min         0.000000  \n",
       "10%        20.000000  \n",
       "30%        33.000000  \n",
       "50%        47.000000  \n",
       "70%        64.000000  \n",
       "90%        93.000000  \n",
       "max       231.000000  \n",
       "std        28.801144  "
      ]
     },
     "execution_count": 28,
     "metadata": {},
     "output_type": "execute_result"
    }
   ],
   "source": [
    "df.describe([0.10, 0.30, 0.50, 0.70, 0.90])"
   ]
  },
  {
   "cell_type": "code",
   "execution_count": 29,
   "id": "e4f8cc65",
   "metadata": {},
   "outputs": [
    {
     "name": "stdout",
     "output_type": "stream",
     "text": [
      "Beginning date: 2013-01-01 00:00:00\n",
      "Ending date: 2017-12-31 00:00:00\n"
     ]
    }
   ],
   "source": [
    "print(\"Beginning date:\",df['date'].min())\n",
    "print(\"Ending date:\",df['date'].max())"
   ]
  },
  {
   "cell_type": "code",
   "execution_count": 31,
   "id": "770908f3",
   "metadata": {},
   "outputs": [
    {
     "name": "stdout",
     "output_type": "stream",
     "text": [
      "Number of unique stores: 10\n",
      "Number of unique items: 50\n"
     ]
    }
   ],
   "source": [
    "print(\"Number of unique stores:\", df['store'].nunique())\n",
    "print(\"Number of unique items:\", df['item'].nunique())"
   ]
  },
  {
   "cell_type": "code",
   "execution_count": 32,
   "id": "b726a4f1",
   "metadata": {},
   "outputs": [
    {
     "name": "stdout",
     "output_type": "stream",
     "text": [
      "Number of unique items in each store: store\n",
      "1     50\n",
      "2     50\n",
      "3     50\n",
      "4     50\n",
      "5     50\n",
      "6     50\n",
      "7     50\n",
      "8     50\n",
      "9     50\n",
      "10    50\n",
      "Name: item, dtype: int64\n"
     ]
    }
   ],
   "source": [
    "print(\"Number of unique items in each store:\", df.groupby([\"store\"])[\"item\"].nunique())"
   ]
  },
  {
   "cell_type": "code",
   "execution_count": null,
   "id": "738bfc51",
   "metadata": {},
   "outputs": [],
   "source": []
  }
 ],
 "metadata": {
  "kernelspec": {
   "display_name": "Python 3",
   "language": "python",
   "name": "python3"
  },
  "language_info": {
   "codemirror_mode": {
    "name": "ipython",
    "version": 3
   },
   "file_extension": ".py",
   "mimetype": "text/x-python",
   "name": "python",
   "nbconvert_exporter": "python",
   "pygments_lexer": "ipython3",
   "version": "3.10.7"
  }
 },
 "nbformat": 4,
 "nbformat_minor": 5
}
